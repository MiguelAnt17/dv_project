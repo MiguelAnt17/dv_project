{
 "cells": [
  {
   "cell_type": "markdown",
   "metadata": {
    "pycharm": {
     "name": "#%% md\n"
    }
   },
   "source": [
    "# Project #1\n",
    "## Data Visualization (LECD) 2024/25\n",
    "\n",
    "#### Student name: Miguel António - 2022237621"
   ]
  },
  {
   "cell_type": "markdown",
   "metadata": {
    "pycharm": {
     "name": "#%% md\n"
    }
   },
   "source": [
    "## Data\n",
    "\n",
    "Para este projeto, optei por utilizar o dataset do Spotify (spotify.csv), que oferece uma rica diversidade de informações sobre músicas e artistas. Este conjunto de dados permite explorar padrões e relações entre diferentes características musicais, proporcionando uma base sólida para análises comparativas.\n",
    "\n",
    "A análise foca em quatro artistas distintos: **Future** (Hip-hop/Trap), **Beach House** (Dream Pop/Indie Rock), **Edvard Grieg** (Romantismo) e **Ida Engberg** (Techno/House). Cada artista representa um gênero único, permitindo uma comparação abrangente das suas músicas em relação a quatro atributos musicais selecionados: \"acousticness\", \"danceability\", \"energy\" e \"valence\".\n",
    "\n",
    "Durante o pré-processamento do dataset, foi identificada a presença de registros duplicados, resultantes de músicas repetidas de artistas. Esses duplicados foram removidos para garantir a integridade dos dados. Além disso, o dataset não apresentava valores nulos, o que facilitou a preparação para a análise.\n",
    "\n",
    "Com uma estrutura que abrange uma variedade de métricas e características, este dataset é uma ferramenta valiosa para entender as nuances da música contemporânea e suas interações com diferentes estilos e artistas. Através das visualizações, será possível identificar tendências, padrões e relações que enriquecem a compreensão das características musicais em questão.\n"
   ]
  },
  {
   "cell_type": "code",
   "execution_count": 2,
   "metadata": {
    "collapsed": false,
    "jupyter": {
     "outputs_hidden": false
    },
    "pycharm": {
     "name": "#%%\n"
    }
   },
   "outputs": [],
   "source": [
    "# import your dataset in this section (cell)\n",
    "import pandas as pd\n",
    "df = pd.read_csv('C:\\\\Users\\\\Miguel António\\\\Desktop\\\\3\\\\VD\\\\PRÁTICAS\\\\PROJETO\\\\spotify.csv')\n",
    "\n",
    "# Para ver os valores nulos que existem no dataset\n",
    "df.isnull().sum()\n",
    "\n",
    "# Para ver os valores duplicados no dataset, e como existem elimino-os\n",
    "duplicados = df[df.duplicated()]\n",
    "df_clean = df.drop_duplicates()\n",
    "df_final = df.drop_duplicates(subset='song_title')\n",
    "\n"
   ]
  },
  {
   "cell_type": "markdown",
   "metadata": {},
   "source": [
    "- Intervalo em que os atributos estão:\n"
   ]
  },
  {
   "cell_type": "code",
   "execution_count": 3,
   "metadata": {},
   "outputs": [
    {
     "name": "stdout",
     "output_type": "stream",
     "text": [
      "Mínimo e Máximo de acousticness: 2.84e-06     0.995\n",
      "Mínimo e Máximo de danceability: 0.122     0.984\n",
      "Mínimo e Máximo de energy: 0.0148     0.998\n",
      "Mínimo e Máximo de valence: 0.0348     0.992\n"
     ]
    }
   ],
   "source": [
    "print(\"Mínimo e Máximo de acousticness:\",df_final['acousticness'].min(),\"   \",df_final['acousticness'].max())\n",
    "print(\"Mínimo e Máximo de danceability:\",df_final['danceability'].min(),\"   \",df_final['danceability'].max())\n",
    "print(\"Mínimo e Máximo de energy:\",df_final['energy'].min(),\"   \",df_final['energy'].max())\n",
    "print(\"Mínimo e Máximo de valence:\",df_final['valence'].min(),\"   \",df_final['valence'].max())"
   ]
  },
  {
   "cell_type": "markdown",
   "metadata": {
    "pycharm": {
     "name": "#%% md\n"
    }
   },
   "source": [
    "## Visualization model #1 - **RADAR CHART**"
   ]
  },
  {
   "cell_type": "code",
   "execution_count": 9,
   "metadata": {
    "collapsed": false,
    "jupyter": {
     "outputs_hidden": false
    },
    "pycharm": {
     "name": "#%%\n"
    }
   },
   "outputs": [
    {
     "data": {
      "application/vnd.plotly.v1+json": {
       "config": {
        "plotlyServerURL": "https://plot.ly"
       },
       "data": [
        {
         "fill": "toself",
         "hoverinfo": "text+name",
         "hovertext": [
          "0.13307142857142856",
          "0.7461428571428571",
          "0.49885714285714283",
          "0.2763"
         ],
         "line": {
          "color": "#FF6F61"
         },
         "marker": {
          "size": 8,
          "symbol": "circle"
         },
         "mode": "markers+lines",
         "name": "Future (Min: 0.01, Max: 0.87)",
         "opacity": 0.6,
         "r": [
          0.13307142857142856,
          0.7461428571428571,
          0.49885714285714283,
          0.2763
         ],
         "theta": [
          "acousticness",
          "danceability",
          "energy",
          "valence"
         ],
         "type": "scatterpolar"
        },
        {
         "fill": "toself",
         "hoverinfo": "text+name",
         "hovertext": [
          "0.16664",
          "0.44980000000000003",
          "0.6392",
          "0.47640000000000005"
         ],
         "line": {
          "color": "#6C5B7F"
         },
         "marker": {
          "size": 8,
          "symbol": "square"
         },
         "mode": "markers+lines",
         "name": "Beach House (Min: 0.01, Max: 0.85)",
         "opacity": 0.6,
         "r": [
          0.16664,
          0.44980000000000003,
          0.6392,
          0.47640000000000005
         ],
         "theta": [
          "acousticness",
          "danceability",
          "energy",
          "valence"
         ],
         "type": "scatterpolar"
        },
        {
         "fill": "toself",
         "hoverinfo": "text+name",
         "hovertext": [
          "0.394",
          "0.76",
          "0.971",
          "0.992"
         ],
         "line": {
          "color": "#F7B7A3"
         },
         "marker": {
          "size": 8,
          "symbol": "diamond"
         },
         "mode": "markers+lines",
         "name": "Ida Engberg (Min: 0.39, Max: 0.99)",
         "opacity": 0.6,
         "r": [
          0.394,
          0.76,
          0.971,
          0.992
         ],
         "theta": [
          "acousticness",
          "danceability",
          "energy",
          "valence"
         ],
         "type": "scatterpolar"
        },
        {
         "fill": "toself",
         "hoverinfo": "text+name",
         "hovertext": [
          "0.995",
          "0.471",
          "0.0148",
          "0.183"
         ],
         "line": {
          "color": "#55B3B0"
         },
         "marker": {
          "size": 8,
          "symbol": "triangle-up"
         },
         "mode": "markers+lines",
         "name": "Edvard Grieg (Min: 0.01, Max: 0.99)",
         "opacity": 0.6,
         "r": [
          0.995,
          0.471,
          0.0148,
          0.183
         ],
         "theta": [
          "acousticness",
          "danceability",
          "energy",
          "valence"
         ],
         "type": "scatterpolar"
        }
       ],
       "layout": {
        "height": 600,
        "hovermode": "x unified",
        "polar": {
         "radialaxis": {
          "range": [
           0,
           1
          ],
          "ticktext": [
           "Mínimo",
           "Médio",
           "Máximo"
          ],
          "tickvals": [
           0,
           0.5,
           1
          ],
          "visible": true
         }
        },
        "showlegend": true,
        "template": {
         "data": {
          "bar": [
           {
            "error_x": {
             "color": "#2a3f5f"
            },
            "error_y": {
             "color": "#2a3f5f"
            },
            "marker": {
             "line": {
              "color": "#E5ECF6",
              "width": 0.5
             },
             "pattern": {
              "fillmode": "overlay",
              "size": 10,
              "solidity": 0.2
             }
            },
            "type": "bar"
           }
          ],
          "barpolar": [
           {
            "marker": {
             "line": {
              "color": "#E5ECF6",
              "width": 0.5
             },
             "pattern": {
              "fillmode": "overlay",
              "size": 10,
              "solidity": 0.2
             }
            },
            "type": "barpolar"
           }
          ],
          "carpet": [
           {
            "aaxis": {
             "endlinecolor": "#2a3f5f",
             "gridcolor": "white",
             "linecolor": "white",
             "minorgridcolor": "white",
             "startlinecolor": "#2a3f5f"
            },
            "baxis": {
             "endlinecolor": "#2a3f5f",
             "gridcolor": "white",
             "linecolor": "white",
             "minorgridcolor": "white",
             "startlinecolor": "#2a3f5f"
            },
            "type": "carpet"
           }
          ],
          "choropleth": [
           {
            "colorbar": {
             "outlinewidth": 0,
             "ticks": ""
            },
            "type": "choropleth"
           }
          ],
          "contour": [
           {
            "colorbar": {
             "outlinewidth": 0,
             "ticks": ""
            },
            "colorscale": [
             [
              0,
              "#0d0887"
             ],
             [
              0.1111111111111111,
              "#46039f"
             ],
             [
              0.2222222222222222,
              "#7201a8"
             ],
             [
              0.3333333333333333,
              "#9c179e"
             ],
             [
              0.4444444444444444,
              "#bd3786"
             ],
             [
              0.5555555555555556,
              "#d8576b"
             ],
             [
              0.6666666666666666,
              "#ed7953"
             ],
             [
              0.7777777777777778,
              "#fb9f3a"
             ],
             [
              0.8888888888888888,
              "#fdca26"
             ],
             [
              1,
              "#f0f921"
             ]
            ],
            "type": "contour"
           }
          ],
          "contourcarpet": [
           {
            "colorbar": {
             "outlinewidth": 0,
             "ticks": ""
            },
            "type": "contourcarpet"
           }
          ],
          "heatmap": [
           {
            "colorbar": {
             "outlinewidth": 0,
             "ticks": ""
            },
            "colorscale": [
             [
              0,
              "#0d0887"
             ],
             [
              0.1111111111111111,
              "#46039f"
             ],
             [
              0.2222222222222222,
              "#7201a8"
             ],
             [
              0.3333333333333333,
              "#9c179e"
             ],
             [
              0.4444444444444444,
              "#bd3786"
             ],
             [
              0.5555555555555556,
              "#d8576b"
             ],
             [
              0.6666666666666666,
              "#ed7953"
             ],
             [
              0.7777777777777778,
              "#fb9f3a"
             ],
             [
              0.8888888888888888,
              "#fdca26"
             ],
             [
              1,
              "#f0f921"
             ]
            ],
            "type": "heatmap"
           }
          ],
          "heatmapgl": [
           {
            "colorbar": {
             "outlinewidth": 0,
             "ticks": ""
            },
            "colorscale": [
             [
              0,
              "#0d0887"
             ],
             [
              0.1111111111111111,
              "#46039f"
             ],
             [
              0.2222222222222222,
              "#7201a8"
             ],
             [
              0.3333333333333333,
              "#9c179e"
             ],
             [
              0.4444444444444444,
              "#bd3786"
             ],
             [
              0.5555555555555556,
              "#d8576b"
             ],
             [
              0.6666666666666666,
              "#ed7953"
             ],
             [
              0.7777777777777778,
              "#fb9f3a"
             ],
             [
              0.8888888888888888,
              "#fdca26"
             ],
             [
              1,
              "#f0f921"
             ]
            ],
            "type": "heatmapgl"
           }
          ],
          "histogram": [
           {
            "marker": {
             "pattern": {
              "fillmode": "overlay",
              "size": 10,
              "solidity": 0.2
             }
            },
            "type": "histogram"
           }
          ],
          "histogram2d": [
           {
            "colorbar": {
             "outlinewidth": 0,
             "ticks": ""
            },
            "colorscale": [
             [
              0,
              "#0d0887"
             ],
             [
              0.1111111111111111,
              "#46039f"
             ],
             [
              0.2222222222222222,
              "#7201a8"
             ],
             [
              0.3333333333333333,
              "#9c179e"
             ],
             [
              0.4444444444444444,
              "#bd3786"
             ],
             [
              0.5555555555555556,
              "#d8576b"
             ],
             [
              0.6666666666666666,
              "#ed7953"
             ],
             [
              0.7777777777777778,
              "#fb9f3a"
             ],
             [
              0.8888888888888888,
              "#fdca26"
             ],
             [
              1,
              "#f0f921"
             ]
            ],
            "type": "histogram2d"
           }
          ],
          "histogram2dcontour": [
           {
            "colorbar": {
             "outlinewidth": 0,
             "ticks": ""
            },
            "colorscale": [
             [
              0,
              "#0d0887"
             ],
             [
              0.1111111111111111,
              "#46039f"
             ],
             [
              0.2222222222222222,
              "#7201a8"
             ],
             [
              0.3333333333333333,
              "#9c179e"
             ],
             [
              0.4444444444444444,
              "#bd3786"
             ],
             [
              0.5555555555555556,
              "#d8576b"
             ],
             [
              0.6666666666666666,
              "#ed7953"
             ],
             [
              0.7777777777777778,
              "#fb9f3a"
             ],
             [
              0.8888888888888888,
              "#fdca26"
             ],
             [
              1,
              "#f0f921"
             ]
            ],
            "type": "histogram2dcontour"
           }
          ],
          "mesh3d": [
           {
            "colorbar": {
             "outlinewidth": 0,
             "ticks": ""
            },
            "type": "mesh3d"
           }
          ],
          "parcoords": [
           {
            "line": {
             "colorbar": {
              "outlinewidth": 0,
              "ticks": ""
             }
            },
            "type": "parcoords"
           }
          ],
          "pie": [
           {
            "automargin": true,
            "type": "pie"
           }
          ],
          "scatter": [
           {
            "fillpattern": {
             "fillmode": "overlay",
             "size": 10,
             "solidity": 0.2
            },
            "type": "scatter"
           }
          ],
          "scatter3d": [
           {
            "line": {
             "colorbar": {
              "outlinewidth": 0,
              "ticks": ""
             }
            },
            "marker": {
             "colorbar": {
              "outlinewidth": 0,
              "ticks": ""
             }
            },
            "type": "scatter3d"
           }
          ],
          "scattercarpet": [
           {
            "marker": {
             "colorbar": {
              "outlinewidth": 0,
              "ticks": ""
             }
            },
            "type": "scattercarpet"
           }
          ],
          "scattergeo": [
           {
            "marker": {
             "colorbar": {
              "outlinewidth": 0,
              "ticks": ""
             }
            },
            "type": "scattergeo"
           }
          ],
          "scattergl": [
           {
            "marker": {
             "colorbar": {
              "outlinewidth": 0,
              "ticks": ""
             }
            },
            "type": "scattergl"
           }
          ],
          "scattermapbox": [
           {
            "marker": {
             "colorbar": {
              "outlinewidth": 0,
              "ticks": ""
             }
            },
            "type": "scattermapbox"
           }
          ],
          "scatterpolar": [
           {
            "marker": {
             "colorbar": {
              "outlinewidth": 0,
              "ticks": ""
             }
            },
            "type": "scatterpolar"
           }
          ],
          "scatterpolargl": [
           {
            "marker": {
             "colorbar": {
              "outlinewidth": 0,
              "ticks": ""
             }
            },
            "type": "scatterpolargl"
           }
          ],
          "scatterternary": [
           {
            "marker": {
             "colorbar": {
              "outlinewidth": 0,
              "ticks": ""
             }
            },
            "type": "scatterternary"
           }
          ],
          "surface": [
           {
            "colorbar": {
             "outlinewidth": 0,
             "ticks": ""
            },
            "colorscale": [
             [
              0,
              "#0d0887"
             ],
             [
              0.1111111111111111,
              "#46039f"
             ],
             [
              0.2222222222222222,
              "#7201a8"
             ],
             [
              0.3333333333333333,
              "#9c179e"
             ],
             [
              0.4444444444444444,
              "#bd3786"
             ],
             [
              0.5555555555555556,
              "#d8576b"
             ],
             [
              0.6666666666666666,
              "#ed7953"
             ],
             [
              0.7777777777777778,
              "#fb9f3a"
             ],
             [
              0.8888888888888888,
              "#fdca26"
             ],
             [
              1,
              "#f0f921"
             ]
            ],
            "type": "surface"
           }
          ],
          "table": [
           {
            "cells": {
             "fill": {
              "color": "#EBF0F8"
             },
             "line": {
              "color": "white"
             }
            },
            "header": {
             "fill": {
              "color": "#C8D4E3"
             },
             "line": {
              "color": "white"
             }
            },
            "type": "table"
           }
          ]
         },
         "layout": {
          "annotationdefaults": {
           "arrowcolor": "#2a3f5f",
           "arrowhead": 0,
           "arrowwidth": 1
          },
          "autotypenumbers": "strict",
          "coloraxis": {
           "colorbar": {
            "outlinewidth": 0,
            "ticks": ""
           }
          },
          "colorscale": {
           "diverging": [
            [
             0,
             "#8e0152"
            ],
            [
             0.1,
             "#c51b7d"
            ],
            [
             0.2,
             "#de77ae"
            ],
            [
             0.3,
             "#f1b6da"
            ],
            [
             0.4,
             "#fde0ef"
            ],
            [
             0.5,
             "#f7f7f7"
            ],
            [
             0.6,
             "#e6f5d0"
            ],
            [
             0.7,
             "#b8e186"
            ],
            [
             0.8,
             "#7fbc41"
            ],
            [
             0.9,
             "#4d9221"
            ],
            [
             1,
             "#276419"
            ]
           ],
           "sequential": [
            [
             0,
             "#0d0887"
            ],
            [
             0.1111111111111111,
             "#46039f"
            ],
            [
             0.2222222222222222,
             "#7201a8"
            ],
            [
             0.3333333333333333,
             "#9c179e"
            ],
            [
             0.4444444444444444,
             "#bd3786"
            ],
            [
             0.5555555555555556,
             "#d8576b"
            ],
            [
             0.6666666666666666,
             "#ed7953"
            ],
            [
             0.7777777777777778,
             "#fb9f3a"
            ],
            [
             0.8888888888888888,
             "#fdca26"
            ],
            [
             1,
             "#f0f921"
            ]
           ],
           "sequentialminus": [
            [
             0,
             "#0d0887"
            ],
            [
             0.1111111111111111,
             "#46039f"
            ],
            [
             0.2222222222222222,
             "#7201a8"
            ],
            [
             0.3333333333333333,
             "#9c179e"
            ],
            [
             0.4444444444444444,
             "#bd3786"
            ],
            [
             0.5555555555555556,
             "#d8576b"
            ],
            [
             0.6666666666666666,
             "#ed7953"
            ],
            [
             0.7777777777777778,
             "#fb9f3a"
            ],
            [
             0.8888888888888888,
             "#fdca26"
            ],
            [
             1,
             "#f0f921"
            ]
           ]
          },
          "colorway": [
           "#636efa",
           "#EF553B",
           "#00cc96",
           "#ab63fa",
           "#FFA15A",
           "#19d3f3",
           "#FF6692",
           "#B6E880",
           "#FF97FF",
           "#FECB52"
          ],
          "font": {
           "color": "#2a3f5f"
          },
          "geo": {
           "bgcolor": "white",
           "lakecolor": "white",
           "landcolor": "#E5ECF6",
           "showlakes": true,
           "showland": true,
           "subunitcolor": "white"
          },
          "hoverlabel": {
           "align": "left"
          },
          "hovermode": "closest",
          "mapbox": {
           "style": "light"
          },
          "paper_bgcolor": "white",
          "plot_bgcolor": "#E5ECF6",
          "polar": {
           "angularaxis": {
            "gridcolor": "white",
            "linecolor": "white",
            "ticks": ""
           },
           "bgcolor": "#E5ECF6",
           "radialaxis": {
            "gridcolor": "white",
            "linecolor": "white",
            "ticks": ""
           }
          },
          "scene": {
           "xaxis": {
            "backgroundcolor": "#E5ECF6",
            "gridcolor": "white",
            "gridwidth": 2,
            "linecolor": "white",
            "showbackground": true,
            "ticks": "",
            "zerolinecolor": "white"
           },
           "yaxis": {
            "backgroundcolor": "#E5ECF6",
            "gridcolor": "white",
            "gridwidth": 2,
            "linecolor": "white",
            "showbackground": true,
            "ticks": "",
            "zerolinecolor": "white"
           },
           "zaxis": {
            "backgroundcolor": "#E5ECF6",
            "gridcolor": "white",
            "gridwidth": 2,
            "linecolor": "white",
            "showbackground": true,
            "ticks": "",
            "zerolinecolor": "white"
           }
          },
          "shapedefaults": {
           "line": {
            "color": "#2a3f5f"
           }
          },
          "ternary": {
           "aaxis": {
            "gridcolor": "white",
            "linecolor": "white",
            "ticks": ""
           },
           "baxis": {
            "gridcolor": "white",
            "linecolor": "white",
            "ticks": ""
           },
           "bgcolor": "#E5ECF6",
           "caxis": {
            "gridcolor": "white",
            "linecolor": "white",
            "ticks": ""
           }
          },
          "title": {
           "x": 0.05
          },
          "xaxis": {
           "automargin": true,
           "gridcolor": "white",
           "linecolor": "white",
           "ticks": "",
           "title": {
            "standoff": 15
           },
           "zerolinecolor": "white",
           "zerolinewidth": 2
          },
          "yaxis": {
           "automargin": true,
           "gridcolor": "white",
           "linecolor": "white",
           "ticks": "",
           "title": {
            "standoff": 15
           },
           "zerolinecolor": "white",
           "zerolinewidth": 2
          }
         }
        },
        "title": {
         "text": "Comparação de Artistas: Future vs Beach House vs Ida Engberg vs Edvard Grieg"
        }
       }
      }
     },
     "metadata": {},
     "output_type": "display_data"
    }
   ],
   "source": [
    "import plotly.graph_objects as go\n",
    "\n",
    "future = df_final[df_final['artist'] == \"Future\"]\n",
    "beach = df_final[df_final['artist'] == \"Beach House\"]\n",
    "ida = df_final[df_final['artist'] == \"Ida Engberg\"]\n",
    "edvard = df_final[df_final['artist'] == \"Edvard Grieg\"]\n",
    "\n",
    "f = future[['acousticness', 'danceability', 'energy', 'valence']].mean()\n",
    "b = beach[['acousticness', 'danceability', 'energy', 'valence']].mean()\n",
    "i = ida[['acousticness', 'danceability', 'energy', 'valence']].mean()\n",
    "e = edvard[['acousticness', 'danceability', 'energy', 'valence']].mean()\n",
    "\n",
    "f_min = future[['acousticness', 'danceability', 'energy', 'valence']].min().min()\n",
    "f_max = future[['acousticness', 'danceability', 'energy', 'valence']].max().max()\n",
    "\n",
    "b_min = beach[['acousticness', 'danceability', 'energy', 'valence']].min().min()\n",
    "b_max = beach[['acousticness', 'danceability', 'energy', 'valence']].max().max()\n",
    "\n",
    "i_min = ida[['acousticness', 'danceability', 'energy', 'valence']].min().min()\n",
    "i_max = ida[['acousticness', 'danceability', 'energy', 'valence']].max().max()\n",
    "\n",
    "e_min = edvard[['acousticness', 'danceability', 'energy', 'valence']].min().min()\n",
    "e_max = edvard[['acousticness', 'danceability', 'energy', 'valence']].max().max()\n",
    "\n",
    "categorias = ['acousticness', 'danceability', 'energy', 'valence']\n",
    "\n",
    "rad = go.Figure()\n",
    "\n",
    "# Future\n",
    "rad.add_trace(go.Scatterpolar(\n",
    "    r=[f['acousticness'], f['danceability'], f['energy'], f['valence']],\n",
    "    theta=categorias,\n",
    "    fill='toself',\n",
    "    name=f'Future (Min: {f_min:.2f}, Max: {f_max:.2f})',  \n",
    "    line_color='#FF6F61',\n",
    "    hovertext=[f['acousticness'], f['danceability'], f['energy'], f['valence']],\n",
    "    hoverinfo='text+name',\n",
    "    opacity=0.6,\n",
    "    marker=dict(symbol='circle', size=8),\n",
    "    mode='markers+lines'\n",
    "))\n",
    "\n",
    "# Beach House\n",
    "rad.add_trace(go.Scatterpolar(\n",
    "    r=[b['acousticness'], b['danceability'], b['energy'], b['valence']],\n",
    "    theta=categorias,\n",
    "    fill='toself',\n",
    "    name=f'Beach House (Min: {b_min:.2f}, Max: {b_max:.2f})',  \n",
    "    line_color='#6C5B7F',\n",
    "    hovertext=[b['acousticness'], b['danceability'], b['energy'], b['valence']],\n",
    "    hoverinfo='text+name',\n",
    "    opacity=0.6,\n",
    "    marker=dict(symbol='square', size=8),\n",
    "    mode='markers+lines'\n",
    "))\n",
    "\n",
    "# Ida Engberg\n",
    "rad.add_trace(go.Scatterpolar(\n",
    "    r=[i['acousticness'], i['danceability'], i['energy'], i['valence']],\n",
    "    theta=categorias,\n",
    "    fill='toself',\n",
    "    name=f'Ida Engberg (Min: {i_min:.2f}, Max: {i_max:.2f})',  \n",
    "    line_color='#F7B7A3',\n",
    "    hovertext=[i['acousticness'], i['danceability'], i['energy'], i['valence']],\n",
    "    hoverinfo='text+name',\n",
    "    opacity=0.6,\n",
    "    marker=dict(symbol='diamond', size=8),\n",
    "    mode='markers+lines'\n",
    "))\n",
    "\n",
    "# Edvard Grieg\n",
    "rad.add_trace(go.Scatterpolar(\n",
    "    r=[e['acousticness'], e['danceability'], e['energy'], e['valence']],\n",
    "    theta=categorias,\n",
    "    fill='toself',\n",
    "    name=f'Edvard Grieg (Min: {e_min:.2f}, Max: {e_max:.2f})',  \n",
    "    line_color='#55B3B0',\n",
    "    hovertext=[e['acousticness'], e['danceability'], e['energy'], e['valence']],\n",
    "    hoverinfo='text+name',\n",
    "    opacity=0.6,\n",
    "    marker=dict(symbol='triangle-up', size=8),\n",
    "    mode='markers+lines'\n",
    "))\n",
    "\n",
    "rad.update_layout(\n",
    "    polar=dict(\n",
    "        radialaxis=dict(\n",
    "            visible=True,\n",
    "            range=[0, 1],\n",
    "            tickvals=[0, 0.5, 1],\n",
    "            ticktext=['Mínimo', 'Médio', 'Máximo']\n",
    "        )\n",
    "    ),\n",
    "    title='Comparação de Artistas: Future vs Beach House vs Ida Engberg vs Edvard Grieg',\n",
    "    showlegend=True,\n",
    "    height=600,\n",
    "    hovermode='x unified'\n",
    ")\n",
    "\n",
    "rad.show()\n"
   ]
  },
  {
   "cell_type": "markdown",
   "metadata": {},
   "source": [
    "## Visualization model #2 - **BAR PLOT**\n"
   ]
  },
  {
   "cell_type": "code",
   "execution_count": 8,
   "metadata": {},
   "outputs": [
    {
     "data": {
      "application/vnd.plotly.v1+json": {
       "config": {
        "plotlyServerURL": "https://plot.ly"
       },
       "data": [
        {
         "hoverinfo": "x+y+name",
         "marker": {
          "color": "#FF6F61"
         },
         "name": "Future",
         "text": [
          "0.13",
          "0.75",
          "0.50",
          "0.28"
         ],
         "textfont": {
          "size": 12
         },
         "textposition": "outside",
         "type": "bar",
         "x": [
          "acousticness",
          "danceability",
          "energy",
          "valence"
         ],
         "y": [
          0.13307142857142856,
          0.7461428571428571,
          0.49885714285714283,
          0.2763
         ]
        },
        {
         "hoverinfo": "x+y+name",
         "marker": {
          "color": "#6C5B7F"
         },
         "name": "Beach House",
         "text": [
          "0.17",
          "0.45",
          "0.64",
          "0.48"
         ],
         "textfont": {
          "size": 12
         },
         "textposition": "outside",
         "type": "bar",
         "x": [
          "acousticness",
          "danceability",
          "energy",
          "valence"
         ],
         "y": [
          0.16664,
          0.44980000000000003,
          0.6392,
          0.47640000000000005
         ]
        },
        {
         "hoverinfo": "x+y+name",
         "marker": {
          "color": "#F7B7A3"
         },
         "name": "Ida Engberg",
         "text": [
          "0.39",
          "0.76",
          "0.97",
          "0.99"
         ],
         "textfont": {
          "size": 12
         },
         "textposition": "outside",
         "type": "bar",
         "x": [
          "acousticness",
          "danceability",
          "energy",
          "valence"
         ],
         "y": [
          0.394,
          0.76,
          0.971,
          0.992
         ]
        },
        {
         "hoverinfo": "x+y+name",
         "marker": {
          "color": "#55B3B0"
         },
         "name": "Edvard Grieg",
         "text": [
          "0.99",
          "0.47",
          "0.01",
          "0.18"
         ],
         "textfont": {
          "size": 12
         },
         "textposition": "outside",
         "type": "bar",
         "x": [
          "acousticness",
          "danceability",
          "energy",
          "valence"
         ],
         "y": [
          0.995,
          0.471,
          0.0148,
          0.183
         ]
        }
       ],
       "layout": {
        "barmode": "group",
        "font": {
         "size": 14
        },
        "height": 600,
        "legend": {
         "title": {
          "text": "Artistas"
         }
        },
        "plot_bgcolor": "#F9F9F9",
        "template": {
         "data": {
          "bar": [
           {
            "error_x": {
             "color": "#2a3f5f"
            },
            "error_y": {
             "color": "#2a3f5f"
            },
            "marker": {
             "line": {
              "color": "#E5ECF6",
              "width": 0.5
             },
             "pattern": {
              "fillmode": "overlay",
              "size": 10,
              "solidity": 0.2
             }
            },
            "type": "bar"
           }
          ],
          "barpolar": [
           {
            "marker": {
             "line": {
              "color": "#E5ECF6",
              "width": 0.5
             },
             "pattern": {
              "fillmode": "overlay",
              "size": 10,
              "solidity": 0.2
             }
            },
            "type": "barpolar"
           }
          ],
          "carpet": [
           {
            "aaxis": {
             "endlinecolor": "#2a3f5f",
             "gridcolor": "white",
             "linecolor": "white",
             "minorgridcolor": "white",
             "startlinecolor": "#2a3f5f"
            },
            "baxis": {
             "endlinecolor": "#2a3f5f",
             "gridcolor": "white",
             "linecolor": "white",
             "minorgridcolor": "white",
             "startlinecolor": "#2a3f5f"
            },
            "type": "carpet"
           }
          ],
          "choropleth": [
           {
            "colorbar": {
             "outlinewidth": 0,
             "ticks": ""
            },
            "type": "choropleth"
           }
          ],
          "contour": [
           {
            "colorbar": {
             "outlinewidth": 0,
             "ticks": ""
            },
            "colorscale": [
             [
              0,
              "#0d0887"
             ],
             [
              0.1111111111111111,
              "#46039f"
             ],
             [
              0.2222222222222222,
              "#7201a8"
             ],
             [
              0.3333333333333333,
              "#9c179e"
             ],
             [
              0.4444444444444444,
              "#bd3786"
             ],
             [
              0.5555555555555556,
              "#d8576b"
             ],
             [
              0.6666666666666666,
              "#ed7953"
             ],
             [
              0.7777777777777778,
              "#fb9f3a"
             ],
             [
              0.8888888888888888,
              "#fdca26"
             ],
             [
              1,
              "#f0f921"
             ]
            ],
            "type": "contour"
           }
          ],
          "contourcarpet": [
           {
            "colorbar": {
             "outlinewidth": 0,
             "ticks": ""
            },
            "type": "contourcarpet"
           }
          ],
          "heatmap": [
           {
            "colorbar": {
             "outlinewidth": 0,
             "ticks": ""
            },
            "colorscale": [
             [
              0,
              "#0d0887"
             ],
             [
              0.1111111111111111,
              "#46039f"
             ],
             [
              0.2222222222222222,
              "#7201a8"
             ],
             [
              0.3333333333333333,
              "#9c179e"
             ],
             [
              0.4444444444444444,
              "#bd3786"
             ],
             [
              0.5555555555555556,
              "#d8576b"
             ],
             [
              0.6666666666666666,
              "#ed7953"
             ],
             [
              0.7777777777777778,
              "#fb9f3a"
             ],
             [
              0.8888888888888888,
              "#fdca26"
             ],
             [
              1,
              "#f0f921"
             ]
            ],
            "type": "heatmap"
           }
          ],
          "heatmapgl": [
           {
            "colorbar": {
             "outlinewidth": 0,
             "ticks": ""
            },
            "colorscale": [
             [
              0,
              "#0d0887"
             ],
             [
              0.1111111111111111,
              "#46039f"
             ],
             [
              0.2222222222222222,
              "#7201a8"
             ],
             [
              0.3333333333333333,
              "#9c179e"
             ],
             [
              0.4444444444444444,
              "#bd3786"
             ],
             [
              0.5555555555555556,
              "#d8576b"
             ],
             [
              0.6666666666666666,
              "#ed7953"
             ],
             [
              0.7777777777777778,
              "#fb9f3a"
             ],
             [
              0.8888888888888888,
              "#fdca26"
             ],
             [
              1,
              "#f0f921"
             ]
            ],
            "type": "heatmapgl"
           }
          ],
          "histogram": [
           {
            "marker": {
             "pattern": {
              "fillmode": "overlay",
              "size": 10,
              "solidity": 0.2
             }
            },
            "type": "histogram"
           }
          ],
          "histogram2d": [
           {
            "colorbar": {
             "outlinewidth": 0,
             "ticks": ""
            },
            "colorscale": [
             [
              0,
              "#0d0887"
             ],
             [
              0.1111111111111111,
              "#46039f"
             ],
             [
              0.2222222222222222,
              "#7201a8"
             ],
             [
              0.3333333333333333,
              "#9c179e"
             ],
             [
              0.4444444444444444,
              "#bd3786"
             ],
             [
              0.5555555555555556,
              "#d8576b"
             ],
             [
              0.6666666666666666,
              "#ed7953"
             ],
             [
              0.7777777777777778,
              "#fb9f3a"
             ],
             [
              0.8888888888888888,
              "#fdca26"
             ],
             [
              1,
              "#f0f921"
             ]
            ],
            "type": "histogram2d"
           }
          ],
          "histogram2dcontour": [
           {
            "colorbar": {
             "outlinewidth": 0,
             "ticks": ""
            },
            "colorscale": [
             [
              0,
              "#0d0887"
             ],
             [
              0.1111111111111111,
              "#46039f"
             ],
             [
              0.2222222222222222,
              "#7201a8"
             ],
             [
              0.3333333333333333,
              "#9c179e"
             ],
             [
              0.4444444444444444,
              "#bd3786"
             ],
             [
              0.5555555555555556,
              "#d8576b"
             ],
             [
              0.6666666666666666,
              "#ed7953"
             ],
             [
              0.7777777777777778,
              "#fb9f3a"
             ],
             [
              0.8888888888888888,
              "#fdca26"
             ],
             [
              1,
              "#f0f921"
             ]
            ],
            "type": "histogram2dcontour"
           }
          ],
          "mesh3d": [
           {
            "colorbar": {
             "outlinewidth": 0,
             "ticks": ""
            },
            "type": "mesh3d"
           }
          ],
          "parcoords": [
           {
            "line": {
             "colorbar": {
              "outlinewidth": 0,
              "ticks": ""
             }
            },
            "type": "parcoords"
           }
          ],
          "pie": [
           {
            "automargin": true,
            "type": "pie"
           }
          ],
          "scatter": [
           {
            "fillpattern": {
             "fillmode": "overlay",
             "size": 10,
             "solidity": 0.2
            },
            "type": "scatter"
           }
          ],
          "scatter3d": [
           {
            "line": {
             "colorbar": {
              "outlinewidth": 0,
              "ticks": ""
             }
            },
            "marker": {
             "colorbar": {
              "outlinewidth": 0,
              "ticks": ""
             }
            },
            "type": "scatter3d"
           }
          ],
          "scattercarpet": [
           {
            "marker": {
             "colorbar": {
              "outlinewidth": 0,
              "ticks": ""
             }
            },
            "type": "scattercarpet"
           }
          ],
          "scattergeo": [
           {
            "marker": {
             "colorbar": {
              "outlinewidth": 0,
              "ticks": ""
             }
            },
            "type": "scattergeo"
           }
          ],
          "scattergl": [
           {
            "marker": {
             "colorbar": {
              "outlinewidth": 0,
              "ticks": ""
             }
            },
            "type": "scattergl"
           }
          ],
          "scattermapbox": [
           {
            "marker": {
             "colorbar": {
              "outlinewidth": 0,
              "ticks": ""
             }
            },
            "type": "scattermapbox"
           }
          ],
          "scatterpolar": [
           {
            "marker": {
             "colorbar": {
              "outlinewidth": 0,
              "ticks": ""
             }
            },
            "type": "scatterpolar"
           }
          ],
          "scatterpolargl": [
           {
            "marker": {
             "colorbar": {
              "outlinewidth": 0,
              "ticks": ""
             }
            },
            "type": "scatterpolargl"
           }
          ],
          "scatterternary": [
           {
            "marker": {
             "colorbar": {
              "outlinewidth": 0,
              "ticks": ""
             }
            },
            "type": "scatterternary"
           }
          ],
          "surface": [
           {
            "colorbar": {
             "outlinewidth": 0,
             "ticks": ""
            },
            "colorscale": [
             [
              0,
              "#0d0887"
             ],
             [
              0.1111111111111111,
              "#46039f"
             ],
             [
              0.2222222222222222,
              "#7201a8"
             ],
             [
              0.3333333333333333,
              "#9c179e"
             ],
             [
              0.4444444444444444,
              "#bd3786"
             ],
             [
              0.5555555555555556,
              "#d8576b"
             ],
             [
              0.6666666666666666,
              "#ed7953"
             ],
             [
              0.7777777777777778,
              "#fb9f3a"
             ],
             [
              0.8888888888888888,
              "#fdca26"
             ],
             [
              1,
              "#f0f921"
             ]
            ],
            "type": "surface"
           }
          ],
          "table": [
           {
            "cells": {
             "fill": {
              "color": "#EBF0F8"
             },
             "line": {
              "color": "white"
             }
            },
            "header": {
             "fill": {
              "color": "#C8D4E3"
             },
             "line": {
              "color": "white"
             }
            },
            "type": "table"
           }
          ]
         },
         "layout": {
          "annotationdefaults": {
           "arrowcolor": "#2a3f5f",
           "arrowhead": 0,
           "arrowwidth": 1
          },
          "autotypenumbers": "strict",
          "coloraxis": {
           "colorbar": {
            "outlinewidth": 0,
            "ticks": ""
           }
          },
          "colorscale": {
           "diverging": [
            [
             0,
             "#8e0152"
            ],
            [
             0.1,
             "#c51b7d"
            ],
            [
             0.2,
             "#de77ae"
            ],
            [
             0.3,
             "#f1b6da"
            ],
            [
             0.4,
             "#fde0ef"
            ],
            [
             0.5,
             "#f7f7f7"
            ],
            [
             0.6,
             "#e6f5d0"
            ],
            [
             0.7,
             "#b8e186"
            ],
            [
             0.8,
             "#7fbc41"
            ],
            [
             0.9,
             "#4d9221"
            ],
            [
             1,
             "#276419"
            ]
           ],
           "sequential": [
            [
             0,
             "#0d0887"
            ],
            [
             0.1111111111111111,
             "#46039f"
            ],
            [
             0.2222222222222222,
             "#7201a8"
            ],
            [
             0.3333333333333333,
             "#9c179e"
            ],
            [
             0.4444444444444444,
             "#bd3786"
            ],
            [
             0.5555555555555556,
             "#d8576b"
            ],
            [
             0.6666666666666666,
             "#ed7953"
            ],
            [
             0.7777777777777778,
             "#fb9f3a"
            ],
            [
             0.8888888888888888,
             "#fdca26"
            ],
            [
             1,
             "#f0f921"
            ]
           ],
           "sequentialminus": [
            [
             0,
             "#0d0887"
            ],
            [
             0.1111111111111111,
             "#46039f"
            ],
            [
             0.2222222222222222,
             "#7201a8"
            ],
            [
             0.3333333333333333,
             "#9c179e"
            ],
            [
             0.4444444444444444,
             "#bd3786"
            ],
            [
             0.5555555555555556,
             "#d8576b"
            ],
            [
             0.6666666666666666,
             "#ed7953"
            ],
            [
             0.7777777777777778,
             "#fb9f3a"
            ],
            [
             0.8888888888888888,
             "#fdca26"
            ],
            [
             1,
             "#f0f921"
            ]
           ]
          },
          "colorway": [
           "#636efa",
           "#EF553B",
           "#00cc96",
           "#ab63fa",
           "#FFA15A",
           "#19d3f3",
           "#FF6692",
           "#B6E880",
           "#FF97FF",
           "#FECB52"
          ],
          "font": {
           "color": "#2a3f5f"
          },
          "geo": {
           "bgcolor": "white",
           "lakecolor": "white",
           "landcolor": "#E5ECF6",
           "showlakes": true,
           "showland": true,
           "subunitcolor": "white"
          },
          "hoverlabel": {
           "align": "left"
          },
          "hovermode": "closest",
          "mapbox": {
           "style": "light"
          },
          "paper_bgcolor": "white",
          "plot_bgcolor": "#E5ECF6",
          "polar": {
           "angularaxis": {
            "gridcolor": "white",
            "linecolor": "white",
            "ticks": ""
           },
           "bgcolor": "#E5ECF6",
           "radialaxis": {
            "gridcolor": "white",
            "linecolor": "white",
            "ticks": ""
           }
          },
          "scene": {
           "xaxis": {
            "backgroundcolor": "#E5ECF6",
            "gridcolor": "white",
            "gridwidth": 2,
            "linecolor": "white",
            "showbackground": true,
            "ticks": "",
            "zerolinecolor": "white"
           },
           "yaxis": {
            "backgroundcolor": "#E5ECF6",
            "gridcolor": "white",
            "gridwidth": 2,
            "linecolor": "white",
            "showbackground": true,
            "ticks": "",
            "zerolinecolor": "white"
           },
           "zaxis": {
            "backgroundcolor": "#E5ECF6",
            "gridcolor": "white",
            "gridwidth": 2,
            "linecolor": "white",
            "showbackground": true,
            "ticks": "",
            "zerolinecolor": "white"
           }
          },
          "shapedefaults": {
           "line": {
            "color": "#2a3f5f"
           }
          },
          "ternary": {
           "aaxis": {
            "gridcolor": "white",
            "linecolor": "white",
            "ticks": ""
           },
           "baxis": {
            "gridcolor": "white",
            "linecolor": "white",
            "ticks": ""
           },
           "bgcolor": "#E5ECF6",
           "caxis": {
            "gridcolor": "white",
            "linecolor": "white",
            "ticks": ""
           }
          },
          "title": {
           "x": 0.05
          },
          "xaxis": {
           "automargin": true,
           "gridcolor": "white",
           "linecolor": "white",
           "ticks": "",
           "title": {
            "standoff": 15
           },
           "zerolinecolor": "white",
           "zerolinewidth": 2
          },
          "yaxis": {
           "automargin": true,
           "gridcolor": "white",
           "linecolor": "white",
           "ticks": "",
           "title": {
            "standoff": 15
           },
           "zerolinecolor": "white",
           "zerolinewidth": 2
          }
         }
        },
        "title": {
         "text": "Comparação de Artistas: Future vs Beach House vs Ida Engberg vs Edvard Grieg"
        },
        "transition": {
         "duration": 500
        },
        "xaxis": {
         "tickfont": {
          "size": 12
         },
         "title": {
          "font": {
           "size": 14
          },
          "text": "Categorias"
         }
        },
        "yaxis": {
         "gridcolor": "lightgray",
         "title": {
          "font": {
           "size": 14
          },
          "text": "Valores"
         }
        }
       }
      }
     },
     "metadata": {},
     "output_type": "display_data"
    }
   ],
   "source": [
    "import plotly.graph_objects as go\n",
    "\n",
    "future = df_final[df_final['artist'] == \"Future\"]\n",
    "beach = df_final[df_final['artist'] == \"Beach House\"]\n",
    "ida = df_final[df_final['artist'] == \"Ida Engberg\"]\n",
    "edvard = df_final[df_final['artist'] == \"Edvard Grieg\"]\n",
    "\n",
    "f = future[['acousticness', 'danceability', 'energy', 'valence']].mean()\n",
    "b = beach[['acousticness', 'danceability', 'energy', 'valence']].mean()\n",
    "i = ida[['acousticness', 'danceability', 'energy', 'valence']].mean()\n",
    "e = edvard[['acousticness', 'danceability', 'energy', 'valence']].mean()\n",
    "\n",
    "bar = go.Figure()\n",
    "\n",
    "categorias = ['acousticness', 'danceability', 'energy', 'valence']\n",
    "\n",
    "bar.add_trace(go.Bar(\n",
    "    name='Future', x=categorias, y=f.values, marker_color='#FF6F61', \n",
    "    text=[f\"{v:.2f}\" for v in f.values], textposition='outside'  \n",
    "))\n",
    "bar.add_trace(go.Bar(\n",
    "    name='Beach House', x=categorias, y=b.values, marker_color='#6C5B7F', \n",
    "    text=[f\"{v:.2f}\" for v in b.values], textposition='outside'\n",
    "))\n",
    "bar.add_trace(go.Bar(\n",
    "    name='Ida Engberg', x=categorias, y=i.values, marker_color='#F7B7A3', \n",
    "    text=[f\"{v:.2f}\" for v in i.values], textposition='outside'\n",
    "))\n",
    "bar.add_trace(go.Bar(\n",
    "    name='Edvard Grieg', x=categorias, y=e.values, marker_color='#55B3B0', \n",
    "    text=[f\"{v:.2f}\" for v in e.values], textposition='outside'\n",
    "))\n",
    "\n",
    "bar.update_layout(\n",
    "    title=\"Comparação de Artistas: Future vs Beach House vs Ida Engberg vs Edvard Grieg\",\n",
    "    barmode='group',  \n",
    "    xaxis_title=\"Categorias\",  \n",
    "    yaxis_title=\"Valores\",  \n",
    "    legend_title=\"Artistas\",  \n",
    "    height=600,  \n",
    "    font=dict(size=14),  \n",
    "    transition_duration=500,  \n",
    "    xaxis=dict(\n",
    "        tickfont=dict(size=12),  \n",
    "        title_font=dict(size=14),  \n",
    "    ),\n",
    "    yaxis=dict(\n",
    "        title_font=dict(size=14), \n",
    "        gridcolor='lightgray'  \n",
    "    ),\n",
    "    plot_bgcolor='#F9F9F9'  \n",
    ")\n",
    "\n",
    "bar.update_traces(\n",
    "    textfont_size=12,  \n",
    "    hoverinfo=\"x+y+name\"  \n",
    ")\n",
    "\n",
    "bar.show()\n"
   ]
  },
  {
   "cell_type": "markdown",
   "metadata": {},
   "source": [
    "## Visualization model #3 - **BUBBLE CHART**"
   ]
  },
  {
   "cell_type": "code",
   "execution_count": 6,
   "metadata": {},
   "outputs": [
    {
     "data": {
      "application/vnd.plotly.v1+json": {
       "config": {
        "plotlyServerURL": "https://plot.ly"
       },
       "data": [
        {
         "marker": {
          "cmax": 1,
          "cmin": 0.1,
          "color": [
           0.13307142857142856,
           0.16664,
           0.394,
           0.995
          ],
          "colorbar": {
           "ticktext": [
            "0.1",
            "0.2",
            "0.3",
            "0.4",
            "0.5",
            "0.6",
            "0.7",
            "0.8",
            "0.9",
            "1.0"
           ],
           "tickvals": [
            0.1,
            0.2,
            0.30000000000000004,
            0.4,
            0.5,
            0.6000000000000001,
            0.7000000000000001,
            0.8,
            0.9,
            1
           ],
           "title": {
            "text": "Escala"
           }
          },
          "colorscale": [
           [
            0,
            "#440154"
           ],
           [
            0.1111111111111111,
            "#482878"
           ],
           [
            0.2222222222222222,
            "#3e4989"
           ],
           [
            0.3333333333333333,
            "#31688e"
           ],
           [
            0.4444444444444444,
            "#26828e"
           ],
           [
            0.5555555555555556,
            "#1f9e89"
           ],
           [
            0.6666666666666666,
            "#35b779"
           ],
           [
            0.7777777777777778,
            "#6ece58"
           ],
           [
            0.8888888888888888,
            "#b5de2b"
           ],
           [
            1,
            "#fde725"
           ]
          ],
          "showscale": true,
          "size": [
           13.307142857142857,
           16.664,
           39.4,
           99.5
          ]
         },
         "mode": "markers+text",
         "name": "acousticness",
         "text": [
          "0.133",
          "0.167",
          "0.394",
          "0.995"
         ],
         "textposition": "top center",
         "type": "scatter",
         "x": [
          "Future",
          "Beach House",
          "Ida Engberg",
          "Edvard Grieg"
         ],
         "y": [
          "acousticness",
          "acousticness",
          "acousticness",
          "acousticness"
         ]
        },
        {
         "marker": {
          "cmax": 1,
          "cmin": 0.1,
          "color": [
           0.7461428571428571,
           0.44980000000000003,
           0.76,
           0.471
          ],
          "colorbar": {
           "ticktext": [
            "0.1",
            "0.2",
            "0.3",
            "0.4",
            "0.5",
            "0.6",
            "0.7",
            "0.8",
            "0.9",
            "1.0"
           ],
           "tickvals": [
            0.1,
            0.2,
            0.30000000000000004,
            0.4,
            0.5,
            0.6000000000000001,
            0.7000000000000001,
            0.8,
            0.9,
            1
           ],
           "title": {
            "text": "Escala"
           }
          },
          "colorscale": [
           [
            0,
            "#440154"
           ],
           [
            0.1111111111111111,
            "#482878"
           ],
           [
            0.2222222222222222,
            "#3e4989"
           ],
           [
            0.3333333333333333,
            "#31688e"
           ],
           [
            0.4444444444444444,
            "#26828e"
           ],
           [
            0.5555555555555556,
            "#1f9e89"
           ],
           [
            0.6666666666666666,
            "#35b779"
           ],
           [
            0.7777777777777778,
            "#6ece58"
           ],
           [
            0.8888888888888888,
            "#b5de2b"
           ],
           [
            1,
            "#fde725"
           ]
          ],
          "showscale": true,
          "size": [
           74.61428571428571,
           44.980000000000004,
           76,
           47.099999999999994
          ]
         },
         "mode": "markers+text",
         "name": "danceability",
         "text": [
          "0.746",
          "0.45",
          "0.76",
          "0.471"
         ],
         "textposition": "top center",
         "type": "scatter",
         "x": [
          "Future",
          "Beach House",
          "Ida Engberg",
          "Edvard Grieg"
         ],
         "y": [
          "danceability",
          "danceability",
          "danceability",
          "danceability"
         ]
        },
        {
         "marker": {
          "cmax": 1,
          "cmin": 0.1,
          "color": [
           0.49885714285714283,
           0.6392,
           0.971,
           0.0148
          ],
          "colorbar": {
           "ticktext": [
            "0.1",
            "0.2",
            "0.3",
            "0.4",
            "0.5",
            "0.6",
            "0.7",
            "0.8",
            "0.9",
            "1.0"
           ],
           "tickvals": [
            0.1,
            0.2,
            0.30000000000000004,
            0.4,
            0.5,
            0.6000000000000001,
            0.7000000000000001,
            0.8,
            0.9,
            1
           ],
           "title": {
            "text": "Escala"
           }
          },
          "colorscale": [
           [
            0,
            "#440154"
           ],
           [
            0.1111111111111111,
            "#482878"
           ],
           [
            0.2222222222222222,
            "#3e4989"
           ],
           [
            0.3333333333333333,
            "#31688e"
           ],
           [
            0.4444444444444444,
            "#26828e"
           ],
           [
            0.5555555555555556,
            "#1f9e89"
           ],
           [
            0.6666666666666666,
            "#35b779"
           ],
           [
            0.7777777777777778,
            "#6ece58"
           ],
           [
            0.8888888888888888,
            "#b5de2b"
           ],
           [
            1,
            "#fde725"
           ]
          ],
          "showscale": true,
          "size": [
           49.885714285714286,
           63.92,
           97.1,
           1.48
          ]
         },
         "mode": "markers+text",
         "name": "energy",
         "text": [
          "0.499",
          "0.639",
          "0.971",
          "0.015"
         ],
         "textposition": "top center",
         "type": "scatter",
         "x": [
          "Future",
          "Beach House",
          "Ida Engberg",
          "Edvard Grieg"
         ],
         "y": [
          "energy",
          "energy",
          "energy",
          "energy"
         ]
        },
        {
         "marker": {
          "cmax": 1,
          "cmin": 0.1,
          "color": [
           0.2763,
           0.47640000000000005,
           0.992,
           0.183
          ],
          "colorbar": {
           "ticktext": [
            "0.1",
            "0.2",
            "0.3",
            "0.4",
            "0.5",
            "0.6",
            "0.7",
            "0.8",
            "0.9",
            "1.0"
           ],
           "tickvals": [
            0.1,
            0.2,
            0.30000000000000004,
            0.4,
            0.5,
            0.6000000000000001,
            0.7000000000000001,
            0.8,
            0.9,
            1
           ],
           "title": {
            "text": "Escala"
           }
          },
          "colorscale": [
           [
            0,
            "#440154"
           ],
           [
            0.1111111111111111,
            "#482878"
           ],
           [
            0.2222222222222222,
            "#3e4989"
           ],
           [
            0.3333333333333333,
            "#31688e"
           ],
           [
            0.4444444444444444,
            "#26828e"
           ],
           [
            0.5555555555555556,
            "#1f9e89"
           ],
           [
            0.6666666666666666,
            "#35b779"
           ],
           [
            0.7777777777777778,
            "#6ece58"
           ],
           [
            0.8888888888888888,
            "#b5de2b"
           ],
           [
            1,
            "#fde725"
           ]
          ],
          "showscale": true,
          "size": [
           27.63,
           47.64000000000001,
           99.2,
           18.3
          ]
         },
         "mode": "markers+text",
         "name": "valence",
         "text": [
          "0.276",
          "0.476",
          "0.992",
          "0.183"
         ],
         "textposition": "top center",
         "type": "scatter",
         "x": [
          "Future",
          "Beach House",
          "Ida Engberg",
          "Edvard Grieg"
         ],
         "y": [
          "valence",
          "valence",
          "valence",
          "valence"
         ]
        }
       ],
       "layout": {
        "height": 800,
        "showlegend": false,
        "template": {
         "data": {
          "bar": [
           {
            "error_x": {
             "color": "#2a3f5f"
            },
            "error_y": {
             "color": "#2a3f5f"
            },
            "marker": {
             "line": {
              "color": "#E5ECF6",
              "width": 0.5
             },
             "pattern": {
              "fillmode": "overlay",
              "size": 10,
              "solidity": 0.2
             }
            },
            "type": "bar"
           }
          ],
          "barpolar": [
           {
            "marker": {
             "line": {
              "color": "#E5ECF6",
              "width": 0.5
             },
             "pattern": {
              "fillmode": "overlay",
              "size": 10,
              "solidity": 0.2
             }
            },
            "type": "barpolar"
           }
          ],
          "carpet": [
           {
            "aaxis": {
             "endlinecolor": "#2a3f5f",
             "gridcolor": "white",
             "linecolor": "white",
             "minorgridcolor": "white",
             "startlinecolor": "#2a3f5f"
            },
            "baxis": {
             "endlinecolor": "#2a3f5f",
             "gridcolor": "white",
             "linecolor": "white",
             "minorgridcolor": "white",
             "startlinecolor": "#2a3f5f"
            },
            "type": "carpet"
           }
          ],
          "choropleth": [
           {
            "colorbar": {
             "outlinewidth": 0,
             "ticks": ""
            },
            "type": "choropleth"
           }
          ],
          "contour": [
           {
            "colorbar": {
             "outlinewidth": 0,
             "ticks": ""
            },
            "colorscale": [
             [
              0,
              "#0d0887"
             ],
             [
              0.1111111111111111,
              "#46039f"
             ],
             [
              0.2222222222222222,
              "#7201a8"
             ],
             [
              0.3333333333333333,
              "#9c179e"
             ],
             [
              0.4444444444444444,
              "#bd3786"
             ],
             [
              0.5555555555555556,
              "#d8576b"
             ],
             [
              0.6666666666666666,
              "#ed7953"
             ],
             [
              0.7777777777777778,
              "#fb9f3a"
             ],
             [
              0.8888888888888888,
              "#fdca26"
             ],
             [
              1,
              "#f0f921"
             ]
            ],
            "type": "contour"
           }
          ],
          "contourcarpet": [
           {
            "colorbar": {
             "outlinewidth": 0,
             "ticks": ""
            },
            "type": "contourcarpet"
           }
          ],
          "heatmap": [
           {
            "colorbar": {
             "outlinewidth": 0,
             "ticks": ""
            },
            "colorscale": [
             [
              0,
              "#0d0887"
             ],
             [
              0.1111111111111111,
              "#46039f"
             ],
             [
              0.2222222222222222,
              "#7201a8"
             ],
             [
              0.3333333333333333,
              "#9c179e"
             ],
             [
              0.4444444444444444,
              "#bd3786"
             ],
             [
              0.5555555555555556,
              "#d8576b"
             ],
             [
              0.6666666666666666,
              "#ed7953"
             ],
             [
              0.7777777777777778,
              "#fb9f3a"
             ],
             [
              0.8888888888888888,
              "#fdca26"
             ],
             [
              1,
              "#f0f921"
             ]
            ],
            "type": "heatmap"
           }
          ],
          "heatmapgl": [
           {
            "colorbar": {
             "outlinewidth": 0,
             "ticks": ""
            },
            "colorscale": [
             [
              0,
              "#0d0887"
             ],
             [
              0.1111111111111111,
              "#46039f"
             ],
             [
              0.2222222222222222,
              "#7201a8"
             ],
             [
              0.3333333333333333,
              "#9c179e"
             ],
             [
              0.4444444444444444,
              "#bd3786"
             ],
             [
              0.5555555555555556,
              "#d8576b"
             ],
             [
              0.6666666666666666,
              "#ed7953"
             ],
             [
              0.7777777777777778,
              "#fb9f3a"
             ],
             [
              0.8888888888888888,
              "#fdca26"
             ],
             [
              1,
              "#f0f921"
             ]
            ],
            "type": "heatmapgl"
           }
          ],
          "histogram": [
           {
            "marker": {
             "pattern": {
              "fillmode": "overlay",
              "size": 10,
              "solidity": 0.2
             }
            },
            "type": "histogram"
           }
          ],
          "histogram2d": [
           {
            "colorbar": {
             "outlinewidth": 0,
             "ticks": ""
            },
            "colorscale": [
             [
              0,
              "#0d0887"
             ],
             [
              0.1111111111111111,
              "#46039f"
             ],
             [
              0.2222222222222222,
              "#7201a8"
             ],
             [
              0.3333333333333333,
              "#9c179e"
             ],
             [
              0.4444444444444444,
              "#bd3786"
             ],
             [
              0.5555555555555556,
              "#d8576b"
             ],
             [
              0.6666666666666666,
              "#ed7953"
             ],
             [
              0.7777777777777778,
              "#fb9f3a"
             ],
             [
              0.8888888888888888,
              "#fdca26"
             ],
             [
              1,
              "#f0f921"
             ]
            ],
            "type": "histogram2d"
           }
          ],
          "histogram2dcontour": [
           {
            "colorbar": {
             "outlinewidth": 0,
             "ticks": ""
            },
            "colorscale": [
             [
              0,
              "#0d0887"
             ],
             [
              0.1111111111111111,
              "#46039f"
             ],
             [
              0.2222222222222222,
              "#7201a8"
             ],
             [
              0.3333333333333333,
              "#9c179e"
             ],
             [
              0.4444444444444444,
              "#bd3786"
             ],
             [
              0.5555555555555556,
              "#d8576b"
             ],
             [
              0.6666666666666666,
              "#ed7953"
             ],
             [
              0.7777777777777778,
              "#fb9f3a"
             ],
             [
              0.8888888888888888,
              "#fdca26"
             ],
             [
              1,
              "#f0f921"
             ]
            ],
            "type": "histogram2dcontour"
           }
          ],
          "mesh3d": [
           {
            "colorbar": {
             "outlinewidth": 0,
             "ticks": ""
            },
            "type": "mesh3d"
           }
          ],
          "parcoords": [
           {
            "line": {
             "colorbar": {
              "outlinewidth": 0,
              "ticks": ""
             }
            },
            "type": "parcoords"
           }
          ],
          "pie": [
           {
            "automargin": true,
            "type": "pie"
           }
          ],
          "scatter": [
           {
            "fillpattern": {
             "fillmode": "overlay",
             "size": 10,
             "solidity": 0.2
            },
            "type": "scatter"
           }
          ],
          "scatter3d": [
           {
            "line": {
             "colorbar": {
              "outlinewidth": 0,
              "ticks": ""
             }
            },
            "marker": {
             "colorbar": {
              "outlinewidth": 0,
              "ticks": ""
             }
            },
            "type": "scatter3d"
           }
          ],
          "scattercarpet": [
           {
            "marker": {
             "colorbar": {
              "outlinewidth": 0,
              "ticks": ""
             }
            },
            "type": "scattercarpet"
           }
          ],
          "scattergeo": [
           {
            "marker": {
             "colorbar": {
              "outlinewidth": 0,
              "ticks": ""
             }
            },
            "type": "scattergeo"
           }
          ],
          "scattergl": [
           {
            "marker": {
             "colorbar": {
              "outlinewidth": 0,
              "ticks": ""
             }
            },
            "type": "scattergl"
           }
          ],
          "scattermapbox": [
           {
            "marker": {
             "colorbar": {
              "outlinewidth": 0,
              "ticks": ""
             }
            },
            "type": "scattermapbox"
           }
          ],
          "scatterpolar": [
           {
            "marker": {
             "colorbar": {
              "outlinewidth": 0,
              "ticks": ""
             }
            },
            "type": "scatterpolar"
           }
          ],
          "scatterpolargl": [
           {
            "marker": {
             "colorbar": {
              "outlinewidth": 0,
              "ticks": ""
             }
            },
            "type": "scatterpolargl"
           }
          ],
          "scatterternary": [
           {
            "marker": {
             "colorbar": {
              "outlinewidth": 0,
              "ticks": ""
             }
            },
            "type": "scatterternary"
           }
          ],
          "surface": [
           {
            "colorbar": {
             "outlinewidth": 0,
             "ticks": ""
            },
            "colorscale": [
             [
              0,
              "#0d0887"
             ],
             [
              0.1111111111111111,
              "#46039f"
             ],
             [
              0.2222222222222222,
              "#7201a8"
             ],
             [
              0.3333333333333333,
              "#9c179e"
             ],
             [
              0.4444444444444444,
              "#bd3786"
             ],
             [
              0.5555555555555556,
              "#d8576b"
             ],
             [
              0.6666666666666666,
              "#ed7953"
             ],
             [
              0.7777777777777778,
              "#fb9f3a"
             ],
             [
              0.8888888888888888,
              "#fdca26"
             ],
             [
              1,
              "#f0f921"
             ]
            ],
            "type": "surface"
           }
          ],
          "table": [
           {
            "cells": {
             "fill": {
              "color": "#EBF0F8"
             },
             "line": {
              "color": "white"
             }
            },
            "header": {
             "fill": {
              "color": "#C8D4E3"
             },
             "line": {
              "color": "white"
             }
            },
            "type": "table"
           }
          ]
         },
         "layout": {
          "annotationdefaults": {
           "arrowcolor": "#2a3f5f",
           "arrowhead": 0,
           "arrowwidth": 1
          },
          "autotypenumbers": "strict",
          "coloraxis": {
           "colorbar": {
            "outlinewidth": 0,
            "ticks": ""
           }
          },
          "colorscale": {
           "diverging": [
            [
             0,
             "#8e0152"
            ],
            [
             0.1,
             "#c51b7d"
            ],
            [
             0.2,
             "#de77ae"
            ],
            [
             0.3,
             "#f1b6da"
            ],
            [
             0.4,
             "#fde0ef"
            ],
            [
             0.5,
             "#f7f7f7"
            ],
            [
             0.6,
             "#e6f5d0"
            ],
            [
             0.7,
             "#b8e186"
            ],
            [
             0.8,
             "#7fbc41"
            ],
            [
             0.9,
             "#4d9221"
            ],
            [
             1,
             "#276419"
            ]
           ],
           "sequential": [
            [
             0,
             "#0d0887"
            ],
            [
             0.1111111111111111,
             "#46039f"
            ],
            [
             0.2222222222222222,
             "#7201a8"
            ],
            [
             0.3333333333333333,
             "#9c179e"
            ],
            [
             0.4444444444444444,
             "#bd3786"
            ],
            [
             0.5555555555555556,
             "#d8576b"
            ],
            [
             0.6666666666666666,
             "#ed7953"
            ],
            [
             0.7777777777777778,
             "#fb9f3a"
            ],
            [
             0.8888888888888888,
             "#fdca26"
            ],
            [
             1,
             "#f0f921"
            ]
           ],
           "sequentialminus": [
            [
             0,
             "#0d0887"
            ],
            [
             0.1111111111111111,
             "#46039f"
            ],
            [
             0.2222222222222222,
             "#7201a8"
            ],
            [
             0.3333333333333333,
             "#9c179e"
            ],
            [
             0.4444444444444444,
             "#bd3786"
            ],
            [
             0.5555555555555556,
             "#d8576b"
            ],
            [
             0.6666666666666666,
             "#ed7953"
            ],
            [
             0.7777777777777778,
             "#fb9f3a"
            ],
            [
             0.8888888888888888,
             "#fdca26"
            ],
            [
             1,
             "#f0f921"
            ]
           ]
          },
          "colorway": [
           "#636efa",
           "#EF553B",
           "#00cc96",
           "#ab63fa",
           "#FFA15A",
           "#19d3f3",
           "#FF6692",
           "#B6E880",
           "#FF97FF",
           "#FECB52"
          ],
          "font": {
           "color": "#2a3f5f"
          },
          "geo": {
           "bgcolor": "white",
           "lakecolor": "white",
           "landcolor": "#E5ECF6",
           "showlakes": true,
           "showland": true,
           "subunitcolor": "white"
          },
          "hoverlabel": {
           "align": "left"
          },
          "hovermode": "closest",
          "mapbox": {
           "style": "light"
          },
          "paper_bgcolor": "white",
          "plot_bgcolor": "#E5ECF6",
          "polar": {
           "angularaxis": {
            "gridcolor": "white",
            "linecolor": "white",
            "ticks": ""
           },
           "bgcolor": "#E5ECF6",
           "radialaxis": {
            "gridcolor": "white",
            "linecolor": "white",
            "ticks": ""
           }
          },
          "scene": {
           "xaxis": {
            "backgroundcolor": "#E5ECF6",
            "gridcolor": "white",
            "gridwidth": 2,
            "linecolor": "white",
            "showbackground": true,
            "ticks": "",
            "zerolinecolor": "white"
           },
           "yaxis": {
            "backgroundcolor": "#E5ECF6",
            "gridcolor": "white",
            "gridwidth": 2,
            "linecolor": "white",
            "showbackground": true,
            "ticks": "",
            "zerolinecolor": "white"
           },
           "zaxis": {
            "backgroundcolor": "#E5ECF6",
            "gridcolor": "white",
            "gridwidth": 2,
            "linecolor": "white",
            "showbackground": true,
            "ticks": "",
            "zerolinecolor": "white"
           }
          },
          "shapedefaults": {
           "line": {
            "color": "#2a3f5f"
           }
          },
          "ternary": {
           "aaxis": {
            "gridcolor": "white",
            "linecolor": "white",
            "ticks": ""
           },
           "baxis": {
            "gridcolor": "white",
            "linecolor": "white",
            "ticks": ""
           },
           "bgcolor": "#E5ECF6",
           "caxis": {
            "gridcolor": "white",
            "linecolor": "white",
            "ticks": ""
           }
          },
          "title": {
           "x": 0.05
          },
          "xaxis": {
           "automargin": true,
           "gridcolor": "white",
           "linecolor": "white",
           "ticks": "",
           "title": {
            "standoff": 15
           },
           "zerolinecolor": "white",
           "zerolinewidth": 2
          },
          "yaxis": {
           "automargin": true,
           "gridcolor": "white",
           "linecolor": "white",
           "ticks": "",
           "title": {
            "standoff": 15
           },
           "zerolinecolor": "white",
           "zerolinewidth": 2
          }
         }
        },
        "title": {
         "text": "Comparação de Artistas: Future vs Beach House vs Ida Engberg vs Edvard Grieg"
        },
        "xaxis": {
         "title": {
          "text": "Artistas"
         }
        },
        "yaxis": {
         "automargin": true,
         "range": [
          -0.5,
          3.5
         ],
         "tickmode": "array",
         "ticktext": [
          "acousticness",
          "danceability",
          "energy",
          "valence"
         ],
         "tickvals": [
          "acousticness",
          "danceability",
          "energy",
          "valence"
         ],
         "title": {
          "text": "Categorias"
         }
        }
       }
      }
     },
     "metadata": {},
     "output_type": "display_data"
    }
   ],
   "source": [
    "from plotly import graph_objects as go\n",
    "\n",
    "future = df_final[df_final['artist'] == \"Future\"]\n",
    "beach = df_final[df_final['artist'] == \"Beach House\"]\n",
    "ida = df_final[df_final['artist'] == \"Ida Engberg\"]\n",
    "edvard = df_final[df_final['artist'] == \"Edvard Grieg\"]\n",
    "\n",
    "f = future[['acousticness', 'danceability', 'energy', 'valence']].mean()\n",
    "b = beach[['acousticness', 'danceability', 'energy', 'valence']].mean()\n",
    "i = ida[['acousticness', 'danceability', 'energy', 'valence']].mean()\n",
    "e = edvard[['acousticness', 'danceability', 'energy', 'valence']].mean()\n",
    "\n",
    "categorias = ['acousticness', 'danceability', 'energy', 'valence']\n",
    "artistas = ['Future', 'Beach House', 'Ida Engberg', 'Edvard Grieg']\n",
    "\n",
    "data = []\n",
    "\n",
    "for category in categorias:\n",
    "    values = [f[category], b[category], i[category], e[category]]\n",
    "    sizes = [value * 100 for value in values]  \n",
    "    colors = values  \n",
    "    rounded_values = [round(value, 3) for value in values]  \n",
    "    \n",
    "    data.append(go.Scatter(\n",
    "        x=artistas,\n",
    "        y=[category] * len(artistas),\n",
    "        mode='markers+text',  \n",
    "        marker=dict(\n",
    "            size=sizes,\n",
    "            color=colors,  \n",
    "            colorscale='Viridis',  \n",
    "            cmin=0.1,  \n",
    "            cmax=1.0,  \n",
    "            showscale=True,  \n",
    "            colorbar=dict(\n",
    "                title='Escala',\n",
    "                tickvals=[0.1 * i for i in range(1, 11)],  \n",
    "                ticktext=[f'{0.1 * i:.1f}' for i in range(1, 11)]  \n",
    "            ),\n",
    "        ),\n",
    "        text=rounded_values, \n",
    "        textposition='top center',   \n",
    "        name=category \n",
    "    ))\n",
    "\n",
    "fig = go.Figure(data=data)\n",
    "\n",
    "fig.update_layout(\n",
    "    title=\"Comparação de Artistas: Future vs Beach House vs Ida Engberg vs Edvard Grieg\",\n",
    "    xaxis_title=\"Artistas\",\n",
    "    yaxis_title=\"Categorias\",\n",
    "    height=800,  \n",
    "    showlegend=False,\n",
    "    yaxis=dict(\n",
    "        tickvals=categorias,  \n",
    "        title='Categorias',\n",
    "        automargin=True,  \n",
    "        tickmode='array',\n",
    "        ticktext=categorias,\n",
    "        range=[-0.5, len(categorias) - 0.5]  \n",
    "    ),\n",
    "    xaxis=dict(title='Artistas') \n",
    ")\n",
    "\n",
    "fig.show()\n"
   ]
  },
  {
   "cell_type": "markdown",
   "metadata": {},
   "source": [
    "## Visualization model #4 - **STACKED AREA GRAPH**"
   ]
  },
  {
   "cell_type": "code",
   "execution_count": 7,
   "metadata": {},
   "outputs": [
    {
     "data": {
      "application/vnd.plotly.v1+json": {
       "config": {
        "plotlyServerURL": "https://plot.ly"
       },
       "data": [
        {
         "fill": "tonexty",
         "hoverinfo": "x+y+name",
         "line": {
          "color": "#FF6F61",
          "width": 3
         },
         "marker": {
          "color": "#FF6F61",
          "size": 10,
          "symbol": "circle"
         },
         "mode": "markers+lines+text",
         "name": "Future",
         "text": [
          "0.13",
          "0.75",
          "0.5",
          "0.28"
         ],
         "textposition": [
          "middle right",
          "top center",
          "top center",
          "middle left"
         ],
         "type": "scatter",
         "x": [
          "acousticness",
          "danceability",
          "energy",
          "valence"
         ],
         "y": [
          0.13307142857142856,
          0.7461428571428571,
          0.49885714285714283,
          0.2763
         ]
        },
        {
         "fill": "tonexty",
         "hoverinfo": "x+y+name",
         "line": {
          "color": "#6C5B7F",
          "width": 3
         },
         "marker": {
          "color": "#6C5B7F",
          "size": 10,
          "symbol": "square"
         },
         "mode": "markers+lines+text",
         "name": "Beach House",
         "text": [
          "0.17",
          "0.45",
          "0.64",
          "0.48"
         ],
         "textposition": [
          "middle right",
          "top center",
          "top center",
          "middle left"
         ],
         "type": "scatter",
         "x": [
          "acousticness",
          "danceability",
          "energy",
          "valence"
         ],
         "y": [
          0.2997114285714286,
          1.1959428571428572,
          1.1380571428571429,
          0.7527
         ]
        },
        {
         "fill": "tonexty",
         "hoverinfo": "x+y+name",
         "line": {
          "color": "#F7B7A3",
          "width": 3
         },
         "marker": {
          "color": "#F7B7A3",
          "size": 10,
          "symbol": "diamond"
         },
         "mode": "markers+lines+text",
         "name": "Ida Engberg",
         "text": [
          "0.39",
          "0.76",
          "0.97",
          "0.99"
         ],
         "textposition": [
          "middle right",
          "top center",
          "bottom center",
          "middle left"
         ],
         "type": "scatter",
         "x": [
          "acousticness",
          "danceability",
          "energy",
          "valence"
         ],
         "y": [
          0.6937114285714285,
          1.9559428571428572,
          2.109057142857143,
          1.7447
         ]
        },
        {
         "fill": "tonexty",
         "hoverinfo": "x+y+name",
         "line": {
          "color": "#55B3B0",
          "width": 3
         },
         "marker": {
          "color": "#55B3B0",
          "size": 10,
          "symbol": "triangle-up"
         },
         "mode": "markers+lines+text",
         "name": "Edvard Grieg",
         "text": [
          "1.0",
          "0.47",
          "0.01",
          "0.18"
         ],
         "textposition": [
          "middle right",
          "top center",
          "top center",
          "middle left"
         ],
         "type": "scatter",
         "x": [
          "acousticness",
          "danceability",
          "energy",
          "valence"
         ],
         "y": [
          1.6887114285714286,
          2.426942857142857,
          2.123857142857143,
          1.9277
         ]
        }
       ],
       "layout": {
        "height": 600,
        "legend": {
         "title": {
          "text": "Artistas"
         }
        },
        "plot_bgcolor": "#F9F9F9",
        "showlegend": true,
        "template": {
         "data": {
          "bar": [
           {
            "error_x": {
             "color": "#2a3f5f"
            },
            "error_y": {
             "color": "#2a3f5f"
            },
            "marker": {
             "line": {
              "color": "#E5ECF6",
              "width": 0.5
             },
             "pattern": {
              "fillmode": "overlay",
              "size": 10,
              "solidity": 0.2
             }
            },
            "type": "bar"
           }
          ],
          "barpolar": [
           {
            "marker": {
             "line": {
              "color": "#E5ECF6",
              "width": 0.5
             },
             "pattern": {
              "fillmode": "overlay",
              "size": 10,
              "solidity": 0.2
             }
            },
            "type": "barpolar"
           }
          ],
          "carpet": [
           {
            "aaxis": {
             "endlinecolor": "#2a3f5f",
             "gridcolor": "white",
             "linecolor": "white",
             "minorgridcolor": "white",
             "startlinecolor": "#2a3f5f"
            },
            "baxis": {
             "endlinecolor": "#2a3f5f",
             "gridcolor": "white",
             "linecolor": "white",
             "minorgridcolor": "white",
             "startlinecolor": "#2a3f5f"
            },
            "type": "carpet"
           }
          ],
          "choropleth": [
           {
            "colorbar": {
             "outlinewidth": 0,
             "ticks": ""
            },
            "type": "choropleth"
           }
          ],
          "contour": [
           {
            "colorbar": {
             "outlinewidth": 0,
             "ticks": ""
            },
            "colorscale": [
             [
              0,
              "#0d0887"
             ],
             [
              0.1111111111111111,
              "#46039f"
             ],
             [
              0.2222222222222222,
              "#7201a8"
             ],
             [
              0.3333333333333333,
              "#9c179e"
             ],
             [
              0.4444444444444444,
              "#bd3786"
             ],
             [
              0.5555555555555556,
              "#d8576b"
             ],
             [
              0.6666666666666666,
              "#ed7953"
             ],
             [
              0.7777777777777778,
              "#fb9f3a"
             ],
             [
              0.8888888888888888,
              "#fdca26"
             ],
             [
              1,
              "#f0f921"
             ]
            ],
            "type": "contour"
           }
          ],
          "contourcarpet": [
           {
            "colorbar": {
             "outlinewidth": 0,
             "ticks": ""
            },
            "type": "contourcarpet"
           }
          ],
          "heatmap": [
           {
            "colorbar": {
             "outlinewidth": 0,
             "ticks": ""
            },
            "colorscale": [
             [
              0,
              "#0d0887"
             ],
             [
              0.1111111111111111,
              "#46039f"
             ],
             [
              0.2222222222222222,
              "#7201a8"
             ],
             [
              0.3333333333333333,
              "#9c179e"
             ],
             [
              0.4444444444444444,
              "#bd3786"
             ],
             [
              0.5555555555555556,
              "#d8576b"
             ],
             [
              0.6666666666666666,
              "#ed7953"
             ],
             [
              0.7777777777777778,
              "#fb9f3a"
             ],
             [
              0.8888888888888888,
              "#fdca26"
             ],
             [
              1,
              "#f0f921"
             ]
            ],
            "type": "heatmap"
           }
          ],
          "heatmapgl": [
           {
            "colorbar": {
             "outlinewidth": 0,
             "ticks": ""
            },
            "colorscale": [
             [
              0,
              "#0d0887"
             ],
             [
              0.1111111111111111,
              "#46039f"
             ],
             [
              0.2222222222222222,
              "#7201a8"
             ],
             [
              0.3333333333333333,
              "#9c179e"
             ],
             [
              0.4444444444444444,
              "#bd3786"
             ],
             [
              0.5555555555555556,
              "#d8576b"
             ],
             [
              0.6666666666666666,
              "#ed7953"
             ],
             [
              0.7777777777777778,
              "#fb9f3a"
             ],
             [
              0.8888888888888888,
              "#fdca26"
             ],
             [
              1,
              "#f0f921"
             ]
            ],
            "type": "heatmapgl"
           }
          ],
          "histogram": [
           {
            "marker": {
             "pattern": {
              "fillmode": "overlay",
              "size": 10,
              "solidity": 0.2
             }
            },
            "type": "histogram"
           }
          ],
          "histogram2d": [
           {
            "colorbar": {
             "outlinewidth": 0,
             "ticks": ""
            },
            "colorscale": [
             [
              0,
              "#0d0887"
             ],
             [
              0.1111111111111111,
              "#46039f"
             ],
             [
              0.2222222222222222,
              "#7201a8"
             ],
             [
              0.3333333333333333,
              "#9c179e"
             ],
             [
              0.4444444444444444,
              "#bd3786"
             ],
             [
              0.5555555555555556,
              "#d8576b"
             ],
             [
              0.6666666666666666,
              "#ed7953"
             ],
             [
              0.7777777777777778,
              "#fb9f3a"
             ],
             [
              0.8888888888888888,
              "#fdca26"
             ],
             [
              1,
              "#f0f921"
             ]
            ],
            "type": "histogram2d"
           }
          ],
          "histogram2dcontour": [
           {
            "colorbar": {
             "outlinewidth": 0,
             "ticks": ""
            },
            "colorscale": [
             [
              0,
              "#0d0887"
             ],
             [
              0.1111111111111111,
              "#46039f"
             ],
             [
              0.2222222222222222,
              "#7201a8"
             ],
             [
              0.3333333333333333,
              "#9c179e"
             ],
             [
              0.4444444444444444,
              "#bd3786"
             ],
             [
              0.5555555555555556,
              "#d8576b"
             ],
             [
              0.6666666666666666,
              "#ed7953"
             ],
             [
              0.7777777777777778,
              "#fb9f3a"
             ],
             [
              0.8888888888888888,
              "#fdca26"
             ],
             [
              1,
              "#f0f921"
             ]
            ],
            "type": "histogram2dcontour"
           }
          ],
          "mesh3d": [
           {
            "colorbar": {
             "outlinewidth": 0,
             "ticks": ""
            },
            "type": "mesh3d"
           }
          ],
          "parcoords": [
           {
            "line": {
             "colorbar": {
              "outlinewidth": 0,
              "ticks": ""
             }
            },
            "type": "parcoords"
           }
          ],
          "pie": [
           {
            "automargin": true,
            "type": "pie"
           }
          ],
          "scatter": [
           {
            "fillpattern": {
             "fillmode": "overlay",
             "size": 10,
             "solidity": 0.2
            },
            "type": "scatter"
           }
          ],
          "scatter3d": [
           {
            "line": {
             "colorbar": {
              "outlinewidth": 0,
              "ticks": ""
             }
            },
            "marker": {
             "colorbar": {
              "outlinewidth": 0,
              "ticks": ""
             }
            },
            "type": "scatter3d"
           }
          ],
          "scattercarpet": [
           {
            "marker": {
             "colorbar": {
              "outlinewidth": 0,
              "ticks": ""
             }
            },
            "type": "scattercarpet"
           }
          ],
          "scattergeo": [
           {
            "marker": {
             "colorbar": {
              "outlinewidth": 0,
              "ticks": ""
             }
            },
            "type": "scattergeo"
           }
          ],
          "scattergl": [
           {
            "marker": {
             "colorbar": {
              "outlinewidth": 0,
              "ticks": ""
             }
            },
            "type": "scattergl"
           }
          ],
          "scattermapbox": [
           {
            "marker": {
             "colorbar": {
              "outlinewidth": 0,
              "ticks": ""
             }
            },
            "type": "scattermapbox"
           }
          ],
          "scatterpolar": [
           {
            "marker": {
             "colorbar": {
              "outlinewidth": 0,
              "ticks": ""
             }
            },
            "type": "scatterpolar"
           }
          ],
          "scatterpolargl": [
           {
            "marker": {
             "colorbar": {
              "outlinewidth": 0,
              "ticks": ""
             }
            },
            "type": "scatterpolargl"
           }
          ],
          "scatterternary": [
           {
            "marker": {
             "colorbar": {
              "outlinewidth": 0,
              "ticks": ""
             }
            },
            "type": "scatterternary"
           }
          ],
          "surface": [
           {
            "colorbar": {
             "outlinewidth": 0,
             "ticks": ""
            },
            "colorscale": [
             [
              0,
              "#0d0887"
             ],
             [
              0.1111111111111111,
              "#46039f"
             ],
             [
              0.2222222222222222,
              "#7201a8"
             ],
             [
              0.3333333333333333,
              "#9c179e"
             ],
             [
              0.4444444444444444,
              "#bd3786"
             ],
             [
              0.5555555555555556,
              "#d8576b"
             ],
             [
              0.6666666666666666,
              "#ed7953"
             ],
             [
              0.7777777777777778,
              "#fb9f3a"
             ],
             [
              0.8888888888888888,
              "#fdca26"
             ],
             [
              1,
              "#f0f921"
             ]
            ],
            "type": "surface"
           }
          ],
          "table": [
           {
            "cells": {
             "fill": {
              "color": "#EBF0F8"
             },
             "line": {
              "color": "white"
             }
            },
            "header": {
             "fill": {
              "color": "#C8D4E3"
             },
             "line": {
              "color": "white"
             }
            },
            "type": "table"
           }
          ]
         },
         "layout": {
          "annotationdefaults": {
           "arrowcolor": "#2a3f5f",
           "arrowhead": 0,
           "arrowwidth": 1
          },
          "autotypenumbers": "strict",
          "coloraxis": {
           "colorbar": {
            "outlinewidth": 0,
            "ticks": ""
           }
          },
          "colorscale": {
           "diverging": [
            [
             0,
             "#8e0152"
            ],
            [
             0.1,
             "#c51b7d"
            ],
            [
             0.2,
             "#de77ae"
            ],
            [
             0.3,
             "#f1b6da"
            ],
            [
             0.4,
             "#fde0ef"
            ],
            [
             0.5,
             "#f7f7f7"
            ],
            [
             0.6,
             "#e6f5d0"
            ],
            [
             0.7,
             "#b8e186"
            ],
            [
             0.8,
             "#7fbc41"
            ],
            [
             0.9,
             "#4d9221"
            ],
            [
             1,
             "#276419"
            ]
           ],
           "sequential": [
            [
             0,
             "#0d0887"
            ],
            [
             0.1111111111111111,
             "#46039f"
            ],
            [
             0.2222222222222222,
             "#7201a8"
            ],
            [
             0.3333333333333333,
             "#9c179e"
            ],
            [
             0.4444444444444444,
             "#bd3786"
            ],
            [
             0.5555555555555556,
             "#d8576b"
            ],
            [
             0.6666666666666666,
             "#ed7953"
            ],
            [
             0.7777777777777778,
             "#fb9f3a"
            ],
            [
             0.8888888888888888,
             "#fdca26"
            ],
            [
             1,
             "#f0f921"
            ]
           ],
           "sequentialminus": [
            [
             0,
             "#0d0887"
            ],
            [
             0.1111111111111111,
             "#46039f"
            ],
            [
             0.2222222222222222,
             "#7201a8"
            ],
            [
             0.3333333333333333,
             "#9c179e"
            ],
            [
             0.4444444444444444,
             "#bd3786"
            ],
            [
             0.5555555555555556,
             "#d8576b"
            ],
            [
             0.6666666666666666,
             "#ed7953"
            ],
            [
             0.7777777777777778,
             "#fb9f3a"
            ],
            [
             0.8888888888888888,
             "#fdca26"
            ],
            [
             1,
             "#f0f921"
            ]
           ]
          },
          "colorway": [
           "#636efa",
           "#EF553B",
           "#00cc96",
           "#ab63fa",
           "#FFA15A",
           "#19d3f3",
           "#FF6692",
           "#B6E880",
           "#FF97FF",
           "#FECB52"
          ],
          "font": {
           "color": "#2a3f5f"
          },
          "geo": {
           "bgcolor": "white",
           "lakecolor": "white",
           "landcolor": "#E5ECF6",
           "showlakes": true,
           "showland": true,
           "subunitcolor": "white"
          },
          "hoverlabel": {
           "align": "left"
          },
          "hovermode": "closest",
          "mapbox": {
           "style": "light"
          },
          "paper_bgcolor": "white",
          "plot_bgcolor": "#E5ECF6",
          "polar": {
           "angularaxis": {
            "gridcolor": "white",
            "linecolor": "white",
            "ticks": ""
           },
           "bgcolor": "#E5ECF6",
           "radialaxis": {
            "gridcolor": "white",
            "linecolor": "white",
            "ticks": ""
           }
          },
          "scene": {
           "xaxis": {
            "backgroundcolor": "#E5ECF6",
            "gridcolor": "white",
            "gridwidth": 2,
            "linecolor": "white",
            "showbackground": true,
            "ticks": "",
            "zerolinecolor": "white"
           },
           "yaxis": {
            "backgroundcolor": "#E5ECF6",
            "gridcolor": "white",
            "gridwidth": 2,
            "linecolor": "white",
            "showbackground": true,
            "ticks": "",
            "zerolinecolor": "white"
           },
           "zaxis": {
            "backgroundcolor": "#E5ECF6",
            "gridcolor": "white",
            "gridwidth": 2,
            "linecolor": "white",
            "showbackground": true,
            "ticks": "",
            "zerolinecolor": "white"
           }
          },
          "shapedefaults": {
           "line": {
            "color": "#2a3f5f"
           }
          },
          "ternary": {
           "aaxis": {
            "gridcolor": "white",
            "linecolor": "white",
            "ticks": ""
           },
           "baxis": {
            "gridcolor": "white",
            "linecolor": "white",
            "ticks": ""
           },
           "bgcolor": "#E5ECF6",
           "caxis": {
            "gridcolor": "white",
            "linecolor": "white",
            "ticks": ""
           }
          },
          "title": {
           "x": 0.05
          },
          "xaxis": {
           "automargin": true,
           "gridcolor": "white",
           "linecolor": "white",
           "ticks": "",
           "title": {
            "standoff": 15
           },
           "zerolinecolor": "white",
           "zerolinewidth": 2
          },
          "yaxis": {
           "automargin": true,
           "gridcolor": "white",
           "linecolor": "white",
           "ticks": "",
           "title": {
            "standoff": 15
           },
           "zerolinecolor": "white",
           "zerolinewidth": 2
          }
         }
        },
        "title": {
         "text": "Comparação de Artistas: Future vs Beach House vs Ida Engberg vs Edvard Grieg"
        },
        "xaxis": {
         "title": {
          "text": "Categorias"
         }
        },
        "yaxis": {
         "title": {
          "text": "Valores"
         }
        }
       }
      }
     },
     "metadata": {},
     "output_type": "display_data"
    }
   ],
   "source": [
    "import plotly.graph_objects as go\n",
    "import numpy as np\n",
    "\n",
    "future = df_final[df_final['artist'] == \"Future\"]\n",
    "beach = df_final[df_final['artist'] == \"Beach House\"]\n",
    "ida = df_final[df_final['artist'] == \"Ida Engberg\"]\n",
    "edvard = df_final[df_final['artist'] == \"Edvard Grieg\"]\n",
    "\n",
    "f = future[['acousticness', 'danceability', 'energy', 'valence']].mean()\n",
    "b = beach[['acousticness', 'danceability', 'energy', 'valence']].mean()\n",
    "i = ida[['acousticness', 'danceability', 'energy', 'valence']].mean()\n",
    "e = edvard[['acousticness', 'danceability', 'energy', 'valence']].mean()\n",
    "\n",
    "categorias = ['acousticness', 'danceability', 'energy', 'valence']\n",
    "x = np.arange(len(categorias))  \n",
    "\n",
    "offset = np.zeros(len(categorias))\n",
    "\n",
    "stream = go.Figure()\n",
    "\n",
    "# Future\n",
    "stream.add_trace(go.Scatter(\n",
    "    x=categorias, y=f.values + offset, mode='markers+lines+text', fill='tonexty', \n",
    "    name='Future', \n",
    "    line=dict(color='#FF6F61', width=3),  \n",
    "    marker=dict(symbol='circle', size=10, color='#FF6F61'),  \n",
    "    hoverinfo='x+y+name',\n",
    "    text=[round(val, 2) for val in f.values],\n",
    "    textposition=['middle right', 'top center', 'top center', 'middle left']  \n",
    "))\n",
    "\n",
    "offset += f.values  \n",
    "\n",
    "# Beach House\n",
    "stream.add_trace(go.Scatter(\n",
    "    x=categorias, y=b.values + offset, mode='markers+lines+text', fill='tonexty', \n",
    "    name='Beach House', \n",
    "    line=dict(color='#6C5B7F', width=3), \n",
    "    marker=dict(symbol='square', size=10, color='#6C5B7F'),  \n",
    "    hoverinfo='x+y+name',\n",
    "    text=[round(val, 2) for val in b.values],  \n",
    "    textposition=['middle right', 'top center', 'top center', 'middle left']  \n",
    "))\n",
    "\n",
    "offset += b.values  \n",
    "\n",
    "# Ida Engberg\n",
    "stream.add_trace(go.Scatter(\n",
    "    x=categorias, y=i.values + offset, mode='markers+lines+text', fill='tonexty', \n",
    "    name='Ida Engberg', \n",
    "    line=dict(color='#F7B7A3', width=3),  \n",
    "    marker=dict(symbol='diamond', size=10, color='#F7B7A3'),  \n",
    "    hoverinfo='x+y+name',\n",
    "    text=[round(val, 2) for val in i.values], \n",
    "    textposition=['middle right', 'top center', 'bottom center', 'middle left']  \n",
    "))\n",
    "\n",
    "offset += i.values  \n",
    "\n",
    "# Edvard Grieg\n",
    "stream.add_trace(go.Scatter(\n",
    "    x=categorias, y=e.values + offset, mode='markers+lines+text', fill='tonexty', \n",
    "    name='Edvard Grieg', \n",
    "    line=dict(color='#55B3B0', width=3),  \n",
    "    marker=dict(symbol='triangle-up', size=10, color='#55B3B0'),  \n",
    "    hoverinfo='x+y+name',\n",
    "    text=[round(val, 2) for val in e.values],  \n",
    "    textposition=['middle right', 'top center', 'top center', 'middle left']  \n",
    "))\n",
    "\n",
    "stream.update_layout(\n",
    "    title=\"Comparação de Artistas: Future vs Beach House vs Ida Engberg vs Edvard Grieg\",\n",
    "    xaxis_title=\"Categorias\",\n",
    "    yaxis_title=\"Valores\",\n",
    "    legend_title=\"Artistas\",\n",
    "    height=600,\n",
    "    showlegend=True,\n",
    "    plot_bgcolor='#F9F9F9'\n",
    ")\n",
    "\n",
    "stream.show()\n"
   ]
  },
  {
   "cell_type": "markdown",
   "metadata": {
    "pycharm": {
     "name": "#%% md\n"
    }
   },
   "source": [
    "## Critical reflection\n",
    "A visualização que fornece o insight mais claro e abrangente dos dados e que na minha opinião é a mais eficaz é a visualização 1 (Radar Chart), pois permite uma comparação visual imediata de todos os atributos para todos os artistas e gera uma forma para cada artista, dando-lhe uma espécie de identidade visual única, o que facilita a determinação de padrões gerais. Além disso é eficaz para mostrar semelhanças e diferenças entre os artistas em várias categorias em simultâneo, sendo por isso a visualização mais memorável por ter uma forma única, criando um apelo visual que pode ser mais envolvente tornando mais fácil para quem vê lembrar-se dos dados apresentados.\n",
    "\n",
    "Os aspetos dos dados que consigo recordar é a comparação dos 4 artistas (**Future**, **Beach House**, **Ida Engberg** e **Edvard Grieg**) em relação aos atributos musicais que escolhi (**acousticenss**, **danceability**, **energy** e **valence**). As análises revalaram que cada artista possui um perfil distinto em relação aos atributos musicais escolhidos. Future destacou-se com uma média elevada em \"energy\" que vai de encontro com a natureza vibrante e dinâmica do Hip-hop/Trap. Por outro lado, Edvard Grieg apresentou uma alta acosuticness, o que é coerente com o seu estilo clássico e melódico. Beach House e Ida Engberg apresentaram médias equilibradas em \"danceability\" e \"valence\" representando uma sonoridade envolvente. As diferenças de caraterísticas musicais entre os artistas podem ser atribuídas aos géneros que representam, por exemplo o Hip-hop/Trap prioriza a \"energy\", enquanto o Romantismo tende a valorizar a \"acousticness\", o que pemite uma análise mais profunda das influências estilísticas. Também foi possível observar que Future não se destacou apenas na \"energy\" mas também em \"danceability\", sugerindo que as suas músicas não são apenas energéticas mas também dançáveis deste modo, torna-o um artista popular em festas e eventos. Por outro lado também é possível notar que Edvard Grieg apresntou valores mais baixos em \"energy\", que é esperado para um artista de música clássica refletindo um estilo mais introspetivo.\n",
    "\n",
    "Para comunicação com pessoas \"comuns\" a melhor visualização é a 2 (Bar Plot), pois são gráficos fáceis de entender e permitem que as pessoas comparem rapidamente os valores dos diferentes atributos entre artistas, facilitando a comunicação de informações de forma eficaz. SE a tarefa for análise exploratória a visualização 1 (Radar Chart) é a melhor, porque se consegue explorar m+ultiplas variáveis de dados ao mesmo tempo, permitindo a identificação de padrões, tendências e relações entre os atributos de maneira intuitiva. \n",
    "\n",
    "Algumas tarefas que se podem realizar com cada visualização e como cada uma suporta essa tarefa: **Radar Chart**, compara múltiplas variáveis de diferentes categorias (como neste caso, atributos musicais de artistas), uma vez que permite visualizar todas as variáveis simultaneamente numa única visualização, facilitando a comparação direta entre os artistas em relação aos atributos de selecionados, ajudando a identificar rapidamente quais artistas se destacam nas determinadas caraterísticas. **Bar Plot**, compara valores absolutos de diferentes categorias, pois mostra comparações claras e diretas entre os artistas em acda atributo, permitindo que as pessoas veja rapidamente qual artista tem maior ou menor valor em cada categoria. **Bubble Chart**, visualizar diferenças entre variáveis (no caso que usei para atributos musicais e as suas magnitudes), pois é um gráfico que mostra a relação entre os atributos do eixo x e do eixo y, usando o tamanho da \"bolha\" para representar uma dimensão (magnitude de um atributo), sendo menos intuitiva para comparação direta entre categorias. **Stacked Area Graph**, pode ser usada para mostrar a evolução de variáveis ao longo do tempo. É uma visualização útil para mostrar a contribuição de cada artista para cada atributo musical, permitindo observar como as proporções mudam e como cada artista contribui para o total, facilitando a análise de tendências."
   ]
  },
  {
   "cell_type": "markdown",
   "metadata": {
    "pycharm": {
     "name": "#%% md\n"
    }
   },
   "source": [
    "## References\n",
    "\n",
    "- slides da teórica e da prática\n",
    "\n",
    "- https://plotly.com/python/bar-charts/\n",
    "\n",
    "- https://plotly.com/python/radar-chart/\n",
    "\n",
    "- https://estudogeral.uc.pt/retrieve/265513/Disserta%c3%a7%c3%a3o_Miguel_Galv%c3%a3o.pdf\n",
    "\n",
    "- https://plotly.com/python/bubble-charts/\n",
    "\n",
    "- https://community.plotly.com/t/add-streamgraph/12851/4\n",
    "\n",
    "- https://datavizcatalogue.com/methods/stacked_area_graph.html\n",
    "\n",
    "- https://plot.ly/python/filled-area-plots/\n",
    "\n",
    "- https://www.geeksforgeeks.org/how-to-create-stacked-area-plot-using-plotly-in-python/\n",
    "\n",
    "- https://community.plotly.com/t/how-to-edit-lines-on-a-plotly-stacked-area-chart/80798\n",
    "\n",
    "- https://datavizcatalogue.com/\n",
    "\n",
    "- https://datavizcatalogue.com/methods/bubble_chart.html"
   ]
  }
 ],
 "metadata": {
  "kernelspec": {
   "display_name": "Python 3",
   "language": "python",
   "name": "python3"
  },
  "language_info": {
   "codemirror_mode": {
    "name": "ipython",
    "version": 3
   },
   "file_extension": ".py",
   "mimetype": "text/x-python",
   "name": "python",
   "nbconvert_exporter": "python",
   "pygments_lexer": "ipython3",
   "version": "3.11.0"
  }
 },
 "nbformat": 4,
 "nbformat_minor": 4
}
